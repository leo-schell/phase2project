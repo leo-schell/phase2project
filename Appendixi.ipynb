{
 "cells": [
  {
   "cell_type": "code",
   "execution_count": 23,
   "id": "e898473c",
   "metadata": {},
   "outputs": [],
   "source": [
    "import statsmodels.api as sm\n",
    "import numpy as np\n",
    "import pandas as pd\n",
    "import seaborn as sns\n",
    "import matplotlib.pyplot as plt\n",
    "from sklearn.preprocessing import StandardScaler\n",
    "from sklearn.datasets import make_regression\n",
    "from sklearn.linear_model import LinearRegression\n",
    "import sklearn.metrics as metrics\n",
    "from scipy import stats as stats\n",
    "\n",
    "%matplotlib inline\n",
    "\n",
    "df = pd.read_csv('data/kc_house_data.csv') \n",
    "\n",
    "#supress scientific notation\n",
    "pd.set_option('display.float_format', lambda x: '%.5f' % x)\n",
    "\n",
    "#Importing Final_Notebook data cleaning\n",
    "df['city'] = df['address'].str.split(',').str[1].str.strip()\n",
    "df['zipcode'] = df['address'].str.split(',').str[-2].str[-5:]\n",
    "df['zipcode'].head()\n",
    "df_irs = pd.read_csv('data/income_by_zip.csv')\n",
    "df_wa = df_irs.loc[df_irs['STATE'] == 'WA',['STATE','ZIPCODE','N02650','A02650']]\n",
    "df_wa['avg_inc'] = df_wa['A02650']/df_wa['N02650']\n",
    "df['zipcode'] = df['zipcode'].astype(int)\n",
    "df2 = df.merge(df_wa,left_on='zipcode',right_on='ZIPCODE',how='inner')\n",
    "df2['month'] = pd.DatetimeIndex(df2['date']).month\n",
    "df2['year'] = pd.DatetimeIndex(df2['date']).year\n",
    "grade_list = list(df2['grade'].unique())\n",
    "grade_list_1 = [grade_list[i] for i in [1,3,7,10,11]]\n",
    "grade_list_2 = ['0 Bad']*5\n",
    "grade_dict = dict(zip(grade_list_1,grade_list_2))\n",
    "df2['grade_group'] = df2['grade'].replace(grade_dict)\n"
   ]
  },
  {
   "cell_type": "markdown",
   "id": "a38b53a8",
   "metadata": {},
   "source": [
    "# Filtering for homes under 4 bedrooms within a commutable distace"
   ]
  },
  {
   "cell_type": "code",
   "execution_count": 24,
   "id": "30b42335",
   "metadata": {},
   "outputs": [
    {
     "name": "stdout",
     "output_type": "stream",
     "text": [
      "<class 'pandas.core.frame.DataFrame'>\n",
      "Int64Index: 25392 entries, 0 to 29219\n",
      "Data columns (total 30 columns):\n",
      " #   Column         Non-Null Count  Dtype  \n",
      "---  ------         --------------  -----  \n",
      " 0   id             25392 non-null  int64  \n",
      " 1   price          25392 non-null  float64\n",
      " 2   bedrooms       25392 non-null  int64  \n",
      " 3   bathrooms      25392 non-null  float64\n",
      " 4   sqft_living    25392 non-null  int64  \n",
      " 5   sqft_lot       25392 non-null  int64  \n",
      " 6   floors         25392 non-null  float64\n",
      " 7   waterfront     25392 non-null  object \n",
      " 8   greenbelt      25392 non-null  object \n",
      " 9   nuisance       25392 non-null  object \n",
      " 10  view           25392 non-null  object \n",
      " 11  condition      25392 non-null  object \n",
      " 12  grade          25392 non-null  object \n",
      " 13  heat_source    25380 non-null  object \n",
      " 14  sewer_system   25385 non-null  object \n",
      " 15  sqft_above     25392 non-null  int64  \n",
      " 16  sqft_basement  25392 non-null  int64  \n",
      " 17  sqft_garage    25392 non-null  int64  \n",
      " 18  sqft_patio     25392 non-null  int64  \n",
      " 19  yr_built       25392 non-null  int64  \n",
      " 20  yr_renovated   25392 non-null  int64  \n",
      " 21  address        25392 non-null  object \n",
      " 22  lat            25392 non-null  float64\n",
      " 23  long           25392 non-null  float64\n",
      " 24  city           25392 non-null  object \n",
      " 25  zipcode        25392 non-null  int64  \n",
      " 26  avg_inc        25392 non-null  float64\n",
      " 27  month          25392 non-null  int64  \n",
      " 28  year           25392 non-null  int64  \n",
      " 29  grade_group    25392 non-null  object \n",
      "dtypes: float64(6), int64(13), object(11)\n",
      "memory usage: 6.0+ MB\n"
     ]
    },
    {
     "name": "stderr",
     "output_type": "stream",
     "text": [
      "/opt/anaconda3/envs/learn-env/lib/python3.8/site-packages/pandas/core/frame.py:4163: SettingWithCopyWarning: \n",
      "A value is trying to be set on a copy of a slice from a DataFrame\n",
      "\n",
      "See the caveats in the documentation: https://pandas.pydata.org/pandas-docs/stable/user_guide/indexing.html#returning-a-view-versus-a-copy\n",
      "  return super().drop(\n"
     ]
    }
   ],
   "source": [
    "kc_beds = df2[(df2['bedrooms'] > 1) & (df2['bedrooms'] < 5)]\n",
    "kc_beds.drop('N02650', inplace=True, axis=1)\n",
    "kc_beds.drop('A02650', inplace=True, axis=1)\n",
    "kc_beds.drop('STATE', inplace=True, axis=1)\n",
    "kc_beds.drop('ZIPCODE', inplace=True, axis=1)\n",
    "kc_beds.drop('date', inplace=True, axis=1)\n",
    "\n",
    "kc_beds.info()"
   ]
  },
  {
   "cell_type": "code",
   "execution_count": 25,
   "id": "24dfd780",
   "metadata": {},
   "outputs": [
    {
     "data": {
      "text/plain": [
       "Seattle                    8268\n",
       "Renton                     1709\n",
       "Kent                       1404\n",
       "Auburn                     1376\n",
       "Bellevue                   1109\n",
       "Kirkland                   1068\n",
       "Federal Way                1057\n",
       "Redmond                     854\n",
       "Sammamish                   825\n",
       "Maple Valley                783\n",
       "Shoreline                   706\n",
       "Burien                      540\n",
       "Woodinville                 525\n",
       "Issaquah                    480\n",
       "Covington                   448\n",
       "Enumclaw                    427\n",
       "North Bend                  399\n",
       "Des Moines                  370\n",
       "Kenmore                     287\n",
       "Snoqualmie                  260\n",
       "Black Diamond               237\n",
       "Mercer Island               235\n",
       "SeaTac                      232\n",
       "Bothell                     227\n",
       "Duvall                      224\n",
       "Lake Forest Park            185\n",
       "Vashon                      162\n",
       "Tukwila                     155\n",
       "Newcastle                   152\n",
       "Carnation                   142\n",
       "Fall City                   105\n",
       "Normandy Park                90\n",
       "Pacific                      72\n",
       "Ravensdale                   59\n",
       "Algona                       48\n",
       "Medina                       39\n",
       "Clyde Hill                   37\n",
       "Milton                       24\n",
       "Beaux Arts                   11\n",
       "Yarrow Point                  7\n",
       "Hunts Point                   7\n",
       "Tulalip                       4\n",
       "Hobart                        4\n",
       "35th Ave SW & SW Holden       3\n",
       "Spokane                       3\n",
       "Baring                        3\n",
       "Preston                       3\n",
       "Monroe                        2\n",
       "Union Hill-Novelty Hill       2\n",
       "Marysville                    2\n",
       "Spanaway                      2\n",
       "Eatonville                    2\n",
       "Puyallup                      2\n",
       "Arlington                     2\n",
       "Vancouver                     2\n",
       "Dash Point                    1\n",
       "Fairwood                      1\n",
       "Lakeland North                1\n",
       "2301 NE Northlake Way         1\n",
       "Dilworth                      1\n",
       "Cottage Lake                  1\n",
       "Snoqualmie Pass               1\n",
       "Clarkston                     1\n",
       "Ames Lake                     1\n",
       "Snohomish                     1\n",
       "White Center                  1\n",
       "Name: city, dtype: int64"
      ]
     },
     "execution_count": 25,
     "metadata": {},
     "output_type": "execute_result"
    }
   ],
   "source": [
    "pd.set_option('display.max_rows', None)\n",
    "kc_beds['city'].value_counts()"
   ]
  },
  {
   "cell_type": "code",
   "execution_count": 26,
   "id": "c3c7051c",
   "metadata": {},
   "outputs": [
    {
     "data": {
      "text/plain": [
       "Seattle                    8268\n",
       "Renton                     1709\n",
       "Kent                       1404\n",
       "Auburn                     1376\n",
       "Bellevue                   1109\n",
       "Kirkland                   1068\n",
       "Federal Way                1057\n",
       "Redmond                     854\n",
       "Sammamish                   825\n",
       "Shoreline                   706\n",
       "Burien                      540\n",
       "Woodinville                 525\n",
       "Issaquah                    480\n",
       "North Bend                  399\n",
       "Des Moines                  370\n",
       "Kenmore                     287\n",
       "Snoqualmie                  260\n",
       "Mercer Island               235\n",
       "SeaTac                      232\n",
       "Lake Forest Park            185\n",
       "Tukwila                     155\n",
       "Newcastle                   152\n",
       "Fall City                   105\n",
       "Normandy Park                90\n",
       "Medina                       39\n",
       "Clyde Hill                   37\n",
       "Beaux Arts                   11\n",
       "Yarrow Point                  7\n",
       "Hunts Point                   7\n",
       "35th Ave SW & SW Holden       3\n",
       "Preston                       3\n",
       "Fairwood                      1\n",
       "Lakeland North                1\n",
       "2301 NE Northlake Way         1\n",
       "White Center                  1\n",
       "Name: city, dtype: int64"
      ]
     },
     "execution_count": 26,
     "metadata": {},
     "output_type": "execute_result"
    }
   ],
   "source": [
    "#with more time I would not have hardcoded this but ya girl is running behind\n",
    "\n",
    "kc2 = kc_beds[(kc_beds['city'] != 'Bothell')]\n",
    "kc2 = kc2[(kc2['city'] != 'Algona')]\n",
    "kc2 = kc2[(kc2['city'] != 'Pacific')]\n",
    "kc2 = kc2[(kc2['city'] != 'Cottage Lake')]\n",
    "kc2 = kc2[(kc2['city'] != 'Maple Valley')]\n",
    "kc2 = kc2[(kc2['city'] != 'Milton')]\n",
    "kc2 = kc2[(kc2['city'] != 'Union Hill-Novelty Hill')]\n",
    "kc2 = kc2[(kc2['city'] != 'Hobart')]\n",
    "kc2 = kc2[(kc2['city'] != 'Carnation')]\n",
    "kc2 = kc2[(kc2['city'] != 'Ames Lake')]\n",
    "kc2 = kc2[(kc2['city'] != 'Covington')]\n",
    "kc2 = kc2[(kc2['city'] != 'Duvall')]\n",
    "kc2 = kc2[(kc2['city'] != 'Puyallup')]\n",
    "kc2 = kc2[(kc2['city'] != 'Dash Point')]\n",
    "kc2 = kc2[(kc2['city'] != 'Ravensdale')]\n",
    "kc2 = kc2[(kc2['city'] != 'Snohomish')]\n",
    "kc2 = kc2[(kc2['city'] != 'Monroe')]\n",
    "kc2 = kc2[(kc2['city'] != 'Black Diamond')]\n",
    "kc2 = kc2[(kc2['city'] != 'Marysville')]\n",
    "kc2 = kc2[(kc2['city'] != 'Snoqualmie Pass')]\n",
    "kc2 = kc2[(kc2['city'] != 'Enumclaw')]\n",
    "kc2 = kc2[(kc2['city'] != 'Spanaway')]\n",
    "kc2 = kc2[(kc2['city'] != 'Tulalip')]\n",
    "kc2 = kc2[(kc2['city'] != 'Arlington')]\n",
    "kc2 = kc2[(kc2['city'] != 'Vashon')]\n",
    "kc2 = kc2[(kc2['city'] != 'Baring')]\n",
    "kc2 = kc2[(kc2['city'] != 'Eatonville')]\n",
    "kc2 = kc2[(kc2['city'] != 'Vancouver')]\n",
    "kc2 = kc2[(kc2['city'] != 'Spokane')]\n",
    "kc2 = kc2[(kc2['city'] != 'Clarkston')]\n",
    "kc2 = kc2[(kc2['city'] != 'Dilworth')]\n",
    "kc2['city'].value_counts()"
   ]
  },
  {
   "cell_type": "code",
   "execution_count": 27,
   "id": "7d7a2cba",
   "metadata": {},
   "outputs": [
    {
     "data": {
      "text/html": [
       "<div>\n",
       "<style scoped>\n",
       "    .dataframe tbody tr th:only-of-type {\n",
       "        vertical-align: middle;\n",
       "    }\n",
       "\n",
       "    .dataframe tbody tr th {\n",
       "        vertical-align: top;\n",
       "    }\n",
       "\n",
       "    .dataframe thead th {\n",
       "        text-align: right;\n",
       "    }\n",
       "</style>\n",
       "<table border=\"1\" class=\"dataframe\">\n",
       "  <thead>\n",
       "    <tr style=\"text-align: right;\">\n",
       "      <th></th>\n",
       "      <th>id</th>\n",
       "      <th>price</th>\n",
       "      <th>bedrooms</th>\n",
       "      <th>bathrooms</th>\n",
       "      <th>sqft_living</th>\n",
       "      <th>sqft_lot</th>\n",
       "      <th>floors</th>\n",
       "      <th>waterfront</th>\n",
       "      <th>greenbelt</th>\n",
       "      <th>nuisance</th>\n",
       "      <th>...</th>\n",
       "      <th>yr_renovated</th>\n",
       "      <th>address</th>\n",
       "      <th>lat</th>\n",
       "      <th>long</th>\n",
       "      <th>city</th>\n",
       "      <th>zipcode</th>\n",
       "      <th>avg_inc</th>\n",
       "      <th>month</th>\n",
       "      <th>year</th>\n",
       "      <th>grade_group</th>\n",
       "    </tr>\n",
       "  </thead>\n",
       "  <tbody>\n",
       "    <tr>\n",
       "      <th>8536</th>\n",
       "      <td>139000091</td>\n",
       "      <td>1180000.00000</td>\n",
       "      <td>2</td>\n",
       "      <td>2.50000</td>\n",
       "      <td>1260</td>\n",
       "      <td>700</td>\n",
       "      <td>2.00000</td>\n",
       "      <td>NO</td>\n",
       "      <td>NO</td>\n",
       "      <td>YES</td>\n",
       "      <td>...</td>\n",
       "      <td>0</td>\n",
       "      <td>35th Ave SW &amp; SW Holden Bus Stop, 35th Ave SW ...</td>\n",
       "      <td>47.53409</td>\n",
       "      <td>-122.37652</td>\n",
       "      <td>35th Ave SW &amp; SW Holden</td>\n",
       "      <td>98126</td>\n",
       "      <td>114.75369</td>\n",
       "      <td>4</td>\n",
       "      <td>2022</td>\n",
       "      <td>9 Better</td>\n",
       "    </tr>\n",
       "    <tr>\n",
       "      <th>8716</th>\n",
       "      <td>139000123</td>\n",
       "      <td>1200000.00000</td>\n",
       "      <td>3</td>\n",
       "      <td>2.50000</td>\n",
       "      <td>1310</td>\n",
       "      <td>1251</td>\n",
       "      <td>2.00000</td>\n",
       "      <td>NO</td>\n",
       "      <td>NO</td>\n",
       "      <td>YES</td>\n",
       "      <td>...</td>\n",
       "      <td>0</td>\n",
       "      <td>35th Ave SW &amp; SW Holden Bus Stop, 35th Ave SW ...</td>\n",
       "      <td>47.53409</td>\n",
       "      <td>-122.37652</td>\n",
       "      <td>35th Ave SW &amp; SW Holden</td>\n",
       "      <td>98126</td>\n",
       "      <td>114.75369</td>\n",
       "      <td>10</td>\n",
       "      <td>2021</td>\n",
       "      <td>9 Better</td>\n",
       "    </tr>\n",
       "    <tr>\n",
       "      <th>8846</th>\n",
       "      <td>139000125</td>\n",
       "      <td>1030000.00000</td>\n",
       "      <td>3</td>\n",
       "      <td>2.50000</td>\n",
       "      <td>1360</td>\n",
       "      <td>2227</td>\n",
       "      <td>2.00000</td>\n",
       "      <td>NO</td>\n",
       "      <td>NO</td>\n",
       "      <td>YES</td>\n",
       "      <td>...</td>\n",
       "      <td>0</td>\n",
       "      <td>35th Ave SW &amp; SW Holden Bus Stop, 35th Ave SW ...</td>\n",
       "      <td>47.53409</td>\n",
       "      <td>-122.37652</td>\n",
       "      <td>35th Ave SW &amp; SW Holden</td>\n",
       "      <td>98126</td>\n",
       "      <td>114.75369</td>\n",
       "      <td>1</td>\n",
       "      <td>2022</td>\n",
       "      <td>9 Better</td>\n",
       "    </tr>\n",
       "  </tbody>\n",
       "</table>\n",
       "<p>3 rows × 30 columns</p>\n",
       "</div>"
      ],
      "text/plain": [
       "             id         price  bedrooms  bathrooms  sqft_living  sqft_lot  \\\n",
       "8536  139000091 1180000.00000         2    2.50000         1260       700   \n",
       "8716  139000123 1200000.00000         3    2.50000         1310      1251   \n",
       "8846  139000125 1030000.00000         3    2.50000         1360      2227   \n",
       "\n",
       "      floors waterfront greenbelt nuisance  ... yr_renovated  \\\n",
       "8536 2.00000         NO        NO      YES  ...            0   \n",
       "8716 2.00000         NO        NO      YES  ...            0   \n",
       "8846 2.00000         NO        NO      YES  ...            0   \n",
       "\n",
       "                                                address      lat       long  \\\n",
       "8536  35th Ave SW & SW Holden Bus Stop, 35th Ave SW ... 47.53409 -122.37652   \n",
       "8716  35th Ave SW & SW Holden Bus Stop, 35th Ave SW ... 47.53409 -122.37652   \n",
       "8846  35th Ave SW & SW Holden Bus Stop, 35th Ave SW ... 47.53409 -122.37652   \n",
       "\n",
       "                         city  zipcode   avg_inc  month  year  grade_group  \n",
       "8536  35th Ave SW & SW Holden    98126 114.75369      4  2022     9 Better  \n",
       "8716  35th Ave SW & SW Holden    98126 114.75369     10  2021     9 Better  \n",
       "8846  35th Ave SW & SW Holden    98126 114.75369      1  2022     9 Better  \n",
       "\n",
       "[3 rows x 30 columns]"
      ]
     },
     "execution_count": 27,
     "metadata": {},
     "output_type": "execute_result"
    }
   ],
   "source": [
    "kc2.loc[kc2['city'] == '35th Ave SW & SW Holden']"
   ]
  },
  {
   "cell_type": "code",
   "execution_count": 28,
   "id": "0bc77149",
   "metadata": {},
   "outputs": [
    {
     "data": {
      "text/html": [
       "<div>\n",
       "<style scoped>\n",
       "    .dataframe tbody tr th:only-of-type {\n",
       "        vertical-align: middle;\n",
       "    }\n",
       "\n",
       "    .dataframe tbody tr th {\n",
       "        vertical-align: top;\n",
       "    }\n",
       "\n",
       "    .dataframe thead th {\n",
       "        text-align: right;\n",
       "    }\n",
       "</style>\n",
       "<table border=\"1\" class=\"dataframe\">\n",
       "  <thead>\n",
       "    <tr style=\"text-align: right;\">\n",
       "      <th></th>\n",
       "      <th>id</th>\n",
       "      <th>price</th>\n",
       "      <th>bedrooms</th>\n",
       "      <th>bathrooms</th>\n",
       "      <th>sqft_living</th>\n",
       "      <th>sqft_lot</th>\n",
       "      <th>floors</th>\n",
       "      <th>waterfront</th>\n",
       "      <th>greenbelt</th>\n",
       "      <th>nuisance</th>\n",
       "      <th>...</th>\n",
       "      <th>yr_renovated</th>\n",
       "      <th>address</th>\n",
       "      <th>lat</th>\n",
       "      <th>long</th>\n",
       "      <th>city</th>\n",
       "      <th>zipcode</th>\n",
       "      <th>avg_inc</th>\n",
       "      <th>month</th>\n",
       "      <th>year</th>\n",
       "      <th>grade_group</th>\n",
       "    </tr>\n",
       "  </thead>\n",
       "  <tbody>\n",
       "  </tbody>\n",
       "</table>\n",
       "<p>0 rows × 30 columns</p>\n",
       "</div>"
      ],
      "text/plain": [
       "Empty DataFrame\n",
       "Columns: [id, price, bedrooms, bathrooms, sqft_living, sqft_lot, floors, waterfront, greenbelt, nuisance, view, condition, grade, heat_source, sewer_system, sqft_above, sqft_basement, sqft_garage, sqft_patio, yr_built, yr_renovated, address, lat, long, city, zipcode, avg_inc, month, year, grade_group]\n",
       "Index: []\n",
       "\n",
       "[0 rows x 30 columns]"
      ]
     },
     "execution_count": 28,
     "metadata": {},
     "output_type": "execute_result"
    }
   ],
   "source": [
    "#data cleaning sanity check\n",
    "kc2 = kc2.replace('35th Ave SW & SW Holden', 'Seattle', regex=True)\n",
    "kc2.loc[kc2['city'] == '35th Ave SW & SW Holden']"
   ]
  },
  {
   "cell_type": "code",
   "execution_count": 29,
   "id": "e10996c5",
   "metadata": {},
   "outputs": [
    {
     "data": {
      "text/html": [
       "<div>\n",
       "<style scoped>\n",
       "    .dataframe tbody tr th:only-of-type {\n",
       "        vertical-align: middle;\n",
       "    }\n",
       "\n",
       "    .dataframe tbody tr th {\n",
       "        vertical-align: top;\n",
       "    }\n",
       "\n",
       "    .dataframe thead th {\n",
       "        text-align: right;\n",
       "    }\n",
       "</style>\n",
       "<table border=\"1\" class=\"dataframe\">\n",
       "  <thead>\n",
       "    <tr style=\"text-align: right;\">\n",
       "      <th></th>\n",
       "      <th>id</th>\n",
       "      <th>price</th>\n",
       "      <th>bedrooms</th>\n",
       "      <th>bathrooms</th>\n",
       "      <th>sqft_living</th>\n",
       "      <th>sqft_lot</th>\n",
       "      <th>floors</th>\n",
       "      <th>waterfront</th>\n",
       "      <th>greenbelt</th>\n",
       "      <th>nuisance</th>\n",
       "      <th>...</th>\n",
       "      <th>yr_renovated</th>\n",
       "      <th>address</th>\n",
       "      <th>lat</th>\n",
       "      <th>long</th>\n",
       "      <th>city</th>\n",
       "      <th>zipcode</th>\n",
       "      <th>avg_inc</th>\n",
       "      <th>month</th>\n",
       "      <th>year</th>\n",
       "      <th>grade_group</th>\n",
       "    </tr>\n",
       "  </thead>\n",
       "  <tbody>\n",
       "    <tr>\n",
       "      <th>5945</th>\n",
       "      <td>4083306403</td>\n",
       "      <td>1205000.00000</td>\n",
       "      <td>3</td>\n",
       "      <td>2.00000</td>\n",
       "      <td>1400</td>\n",
       "      <td>1445</td>\n",
       "      <td>2.00000</td>\n",
       "      <td>NO</td>\n",
       "      <td>NO</td>\n",
       "      <td>YES</td>\n",
       "      <td>...</td>\n",
       "      <td>0</td>\n",
       "      <td>Sunnyside Avenue North Boat Ramp, 2301 NE Nort...</td>\n",
       "      <td>47.65025</td>\n",
       "      <td>-122.33084</td>\n",
       "      <td>2301 NE Northlake Way</td>\n",
       "      <td>98103</td>\n",
       "      <td>147.63544</td>\n",
       "      <td>2</td>\n",
       "      <td>2022</td>\n",
       "      <td>8 Good</td>\n",
       "    </tr>\n",
       "  </tbody>\n",
       "</table>\n",
       "<p>1 rows × 30 columns</p>\n",
       "</div>"
      ],
      "text/plain": [
       "              id         price  bedrooms  bathrooms  sqft_living  sqft_lot  \\\n",
       "5945  4083306403 1205000.00000         3    2.00000         1400      1445   \n",
       "\n",
       "      floors waterfront greenbelt nuisance  ... yr_renovated  \\\n",
       "5945 2.00000         NO        NO      YES  ...            0   \n",
       "\n",
       "                                                address      lat       long  \\\n",
       "5945  Sunnyside Avenue North Boat Ramp, 2301 NE Nort... 47.65025 -122.33084   \n",
       "\n",
       "                       city  zipcode   avg_inc  month  year  grade_group  \n",
       "5945  2301 NE Northlake Way    98103 147.63544      2  2022       8 Good  \n",
       "\n",
       "[1 rows x 30 columns]"
      ]
     },
     "execution_count": 29,
     "metadata": {},
     "output_type": "execute_result"
    }
   ],
   "source": [
    "#data cleaning sanity check\n",
    "kc2.loc[kc2['city'] == '2301 NE Northlake Way']"
   ]
  },
  {
   "cell_type": "code",
   "execution_count": 30,
   "id": "94077502",
   "metadata": {},
   "outputs": [
    {
     "data": {
      "text/html": [
       "<div>\n",
       "<style scoped>\n",
       "    .dataframe tbody tr th:only-of-type {\n",
       "        vertical-align: middle;\n",
       "    }\n",
       "\n",
       "    .dataframe tbody tr th {\n",
       "        vertical-align: top;\n",
       "    }\n",
       "\n",
       "    .dataframe thead th {\n",
       "        text-align: right;\n",
       "    }\n",
       "</style>\n",
       "<table border=\"1\" class=\"dataframe\">\n",
       "  <thead>\n",
       "    <tr style=\"text-align: right;\">\n",
       "      <th></th>\n",
       "      <th>id</th>\n",
       "      <th>price</th>\n",
       "      <th>bedrooms</th>\n",
       "      <th>bathrooms</th>\n",
       "      <th>sqft_living</th>\n",
       "      <th>sqft_lot</th>\n",
       "      <th>floors</th>\n",
       "      <th>waterfront</th>\n",
       "      <th>greenbelt</th>\n",
       "      <th>nuisance</th>\n",
       "      <th>...</th>\n",
       "      <th>yr_renovated</th>\n",
       "      <th>address</th>\n",
       "      <th>lat</th>\n",
       "      <th>long</th>\n",
       "      <th>city</th>\n",
       "      <th>zipcode</th>\n",
       "      <th>avg_inc</th>\n",
       "      <th>month</th>\n",
       "      <th>year</th>\n",
       "      <th>grade_group</th>\n",
       "    </tr>\n",
       "  </thead>\n",
       "  <tbody>\n",
       "  </tbody>\n",
       "</table>\n",
       "<p>0 rows × 30 columns</p>\n",
       "</div>"
      ],
      "text/plain": [
       "Empty DataFrame\n",
       "Columns: [id, price, bedrooms, bathrooms, sqft_living, sqft_lot, floors, waterfront, greenbelt, nuisance, view, condition, grade, heat_source, sewer_system, sqft_above, sqft_basement, sqft_garage, sqft_patio, yr_built, yr_renovated, address, lat, long, city, zipcode, avg_inc, month, year, grade_group]\n",
       "Index: []\n",
       "\n",
       "[0 rows x 30 columns]"
      ]
     },
     "execution_count": 30,
     "metadata": {},
     "output_type": "execute_result"
    }
   ],
   "source": [
    "kc2 = kc2.replace('2301 NE Northlake Way', 'Seattle', regex=True)\n",
    "kc2.loc[kc2['city'] == '2301 NE Northlake Way']"
   ]
  },
  {
   "cell_type": "code",
   "execution_count": 31,
   "id": "2683898f",
   "metadata": {},
   "outputs": [
    {
     "data": {
      "text/plain": [
       "count      22502.00000\n",
       "mean     1068011.70803\n",
       "std       771519.16754\n",
       "min        27360.00000\n",
       "25%       640000.00000\n",
       "50%       860000.00000\n",
       "75%      1280468.75000\n",
       "max     23500000.00000\n",
       "Name: price, dtype: float64"
      ]
     },
     "execution_count": 31,
     "metadata": {},
     "output_type": "execute_result"
    }
   ],
   "source": [
    "kc2['price'].describe()"
   ]
  },
  {
   "cell_type": "code",
   "execution_count": 32,
   "id": "04c445cf",
   "metadata": {},
   "outputs": [
    {
     "data": {
      "text/plain": [
       "Average      13280\n",
       "Good          6427\n",
       "Very Good     2579\n",
       "Fair           178\n",
       "Poor            38\n",
       "Name: condition, dtype: int64"
      ]
     },
     "execution_count": 32,
     "metadata": {},
     "output_type": "execute_result"
    }
   ],
   "source": [
    "kc2['condition'].value_counts()"
   ]
  },
  {
   "cell_type": "code",
   "execution_count": 33,
   "id": "5e1e2bb5",
   "metadata": {},
   "outputs": [
    {
     "data": {
      "text/plain": [
       "count     22502.00000\n",
       "mean      13657.62306\n",
       "std       46783.19353\n",
       "min         402.00000\n",
       "25%        4860.75000\n",
       "50%        7400.00000\n",
       "75%       10246.50000\n",
       "max     3067495.00000\n",
       "Name: sqft_lot, dtype: float64"
      ]
     },
     "execution_count": 33,
     "metadata": {},
     "output_type": "execute_result"
    }
   ],
   "source": [
    "kc2['sqft_lot'].describe()"
   ]
  },
  {
   "cell_type": "code",
   "execution_count": 34,
   "id": "1607c3a5",
   "metadata": {},
   "outputs": [
    {
     "data": {
      "text/plain": [
       "7 Average       9337\n",
       "8 Good          6800\n",
       "0 Bad           3467\n",
       "9 Better        2555\n",
       "11 Excellent     258\n",
       "12 Luxury         67\n",
       "4 Low             15\n",
       "3 Poor             3\n",
       "Name: grade_group, dtype: int64"
      ]
     },
     "execution_count": 34,
     "metadata": {},
     "output_type": "execute_result"
    }
   ],
   "source": [
    "kc2['grade_group'].value_counts()"
   ]
  },
  {
   "cell_type": "code",
   "execution_count": 36,
   "id": "e8d9ff87",
   "metadata": {},
   "outputs": [
    {
     "data": {
      "text/html": [
       "<div>\n",
       "<style scoped>\n",
       "    .dataframe tbody tr th:only-of-type {\n",
       "        vertical-align: middle;\n",
       "    }\n",
       "\n",
       "    .dataframe tbody tr th {\n",
       "        vertical-align: top;\n",
       "    }\n",
       "\n",
       "    .dataframe thead th {\n",
       "        text-align: right;\n",
       "    }\n",
       "</style>\n",
       "<table border=\"1\" class=\"dataframe\">\n",
       "  <thead>\n",
       "    <tr style=\"text-align: right;\">\n",
       "      <th></th>\n",
       "      <th>id</th>\n",
       "      <th>price</th>\n",
       "      <th>bedrooms</th>\n",
       "      <th>bathrooms</th>\n",
       "      <th>sqft_living</th>\n",
       "      <th>sqft_lot</th>\n",
       "      <th>floors</th>\n",
       "      <th>sqft_above</th>\n",
       "      <th>sqft_basement</th>\n",
       "      <th>sqft_garage</th>\n",
       "      <th>sqft_patio</th>\n",
       "      <th>yr_built</th>\n",
       "      <th>yr_renovated</th>\n",
       "      <th>lat</th>\n",
       "      <th>long</th>\n",
       "      <th>zipcode</th>\n",
       "      <th>avg_inc</th>\n",
       "      <th>month</th>\n",
       "      <th>year</th>\n",
       "    </tr>\n",
       "  </thead>\n",
       "  <tbody>\n",
       "    <tr>\n",
       "      <th>count</th>\n",
       "      <td>14325.00000</td>\n",
       "      <td>14325.00000</td>\n",
       "      <td>14325.00000</td>\n",
       "      <td>14325.00000</td>\n",
       "      <td>14325.00000</td>\n",
       "      <td>14325.00000</td>\n",
       "      <td>14325.00000</td>\n",
       "      <td>14325.00000</td>\n",
       "      <td>14325.00000</td>\n",
       "      <td>14325.00000</td>\n",
       "      <td>14325.00000</td>\n",
       "      <td>14325.00000</td>\n",
       "      <td>14325.00000</td>\n",
       "      <td>14325.00000</td>\n",
       "      <td>14325.00000</td>\n",
       "      <td>14325.00000</td>\n",
       "      <td>14325.00000</td>\n",
       "      <td>14325.00000</td>\n",
       "      <td>14325.00000</td>\n",
       "    </tr>\n",
       "    <tr>\n",
       "      <th>mean</th>\n",
       "      <td>4742112690.16803</td>\n",
       "      <td>870096.22178</td>\n",
       "      <td>3.11449</td>\n",
       "      <td>2.04216</td>\n",
       "      <td>1708.20188</td>\n",
       "      <td>5821.58981</td>\n",
       "      <td>1.45686</td>\n",
       "      <td>1453.07253</td>\n",
       "      <td>453.07644</td>\n",
       "      <td>251.46360</td>\n",
       "      <td>147.48942</td>\n",
       "      <td>1967.06513</td>\n",
       "      <td>88.60126</td>\n",
       "      <td>47.56105</td>\n",
       "      <td>-122.26676</td>\n",
       "      <td>98092.08126</td>\n",
       "      <td>130.40993</td>\n",
       "      <td>6.82820</td>\n",
       "      <td>2021.36991</td>\n",
       "    </tr>\n",
       "    <tr>\n",
       "      <th>std</th>\n",
       "      <td>2874442208.65749</td>\n",
       "      <td>400576.10533</td>\n",
       "      <td>0.69487</td>\n",
       "      <td>0.71298</td>\n",
       "      <td>577.38946</td>\n",
       "      <td>2505.14961</td>\n",
       "      <td>0.55520</td>\n",
       "      <td>532.30209</td>\n",
       "      <td>492.61808</td>\n",
       "      <td>229.11329</td>\n",
       "      <td>168.85266</td>\n",
       "      <td>32.94223</td>\n",
       "      <td>411.42438</td>\n",
       "      <td>0.13522</td>\n",
       "      <td>0.11462</td>\n",
       "      <td>53.00553</td>\n",
       "      <td>69.22694</td>\n",
       "      <td>3.12394</td>\n",
       "      <td>0.48280</td>\n",
       "    </tr>\n",
       "    <tr>\n",
       "      <th>min</th>\n",
       "      <td>2800024.00000</td>\n",
       "      <td>27360.00000</td>\n",
       "      <td>2.00000</td>\n",
       "      <td>0.00000</td>\n",
       "      <td>540.00000</td>\n",
       "      <td>402.00000</td>\n",
       "      <td>1.00000</td>\n",
       "      <td>400.00000</td>\n",
       "      <td>0.00000</td>\n",
       "      <td>0.00000</td>\n",
       "      <td>0.00000</td>\n",
       "      <td>1900.00000</td>\n",
       "      <td>0.00000</td>\n",
       "      <td>47.25768</td>\n",
       "      <td>-122.41559</td>\n",
       "      <td>98001.00000</td>\n",
       "      <td>51.76461</td>\n",
       "      <td>1.00000</td>\n",
       "      <td>2021.00000</td>\n",
       "    </tr>\n",
       "    <tr>\n",
       "      <th>25%</th>\n",
       "      <td>2345800040.00000</td>\n",
       "      <td>603000.00000</td>\n",
       "      <td>3.00000</td>\n",
       "      <td>1.50000</td>\n",
       "      <td>1280.00000</td>\n",
       "      <td>4000.00000</td>\n",
       "      <td>1.00000</td>\n",
       "      <td>1070.00000</td>\n",
       "      <td>0.00000</td>\n",
       "      <td>0.00000</td>\n",
       "      <td>0.00000</td>\n",
       "      <td>1944.00000</td>\n",
       "      <td>0.00000</td>\n",
       "      <td>47.47747</td>\n",
       "      <td>-122.35075</td>\n",
       "      <td>98042.00000</td>\n",
       "      <td>83.88887</td>\n",
       "      <td>4.00000</td>\n",
       "      <td>2021.00000</td>\n",
       "    </tr>\n",
       "    <tr>\n",
       "      <th>50%</th>\n",
       "      <td>4039400820.00000</td>\n",
       "      <td>780000.00000</td>\n",
       "      <td>3.00000</td>\n",
       "      <td>2.00000</td>\n",
       "      <td>1640.00000</td>\n",
       "      <td>6050.00000</td>\n",
       "      <td>1.00000</td>\n",
       "      <td>1330.00000</td>\n",
       "      <td>330.00000</td>\n",
       "      <td>250.00000</td>\n",
       "      <td>100.00000</td>\n",
       "      <td>1966.00000</td>\n",
       "      <td>0.00000</td>\n",
       "      <td>47.56894</td>\n",
       "      <td>-122.29981</td>\n",
       "      <td>98106.00000</td>\n",
       "      <td>116.63412</td>\n",
       "      <td>7.00000</td>\n",
       "      <td>2021.00000</td>\n",
       "    </tr>\n",
       "    <tr>\n",
       "      <th>75%</th>\n",
       "      <td>7454001340.00000</td>\n",
       "      <td>1050000.00000</td>\n",
       "      <td>4.00000</td>\n",
       "      <td>2.50000</td>\n",
       "      <td>2070.00000</td>\n",
       "      <td>7800.00000</td>\n",
       "      <td>2.00000</td>\n",
       "      <td>1720.00000</td>\n",
       "      <td>890.00000</td>\n",
       "      <td>440.00000</td>\n",
       "      <td>220.00000</td>\n",
       "      <td>1996.00000</td>\n",
       "      <td>0.00000</td>\n",
       "      <td>47.67966</td>\n",
       "      <td>-122.19764</td>\n",
       "      <td>98125.00000</td>\n",
       "      <td>159.67277</td>\n",
       "      <td>9.00000</td>\n",
       "      <td>2022.00000</td>\n",
       "    </tr>\n",
       "    <tr>\n",
       "      <th>max</th>\n",
       "      <td>9904000012.00000</td>\n",
       "      <td>7115000.00000</td>\n",
       "      <td>4.00000</td>\n",
       "      <td>5.50000</td>\n",
       "      <td>4400.00000</td>\n",
       "      <td>9999.00000</td>\n",
       "      <td>4.00000</td>\n",
       "      <td>5500.00000</td>\n",
       "      <td>3180.00000</td>\n",
       "      <td>1660.00000</td>\n",
       "      <td>2030.00000</td>\n",
       "      <td>2022.00000</td>\n",
       "      <td>2022.00000</td>\n",
       "      <td>47.78983</td>\n",
       "      <td>-121.73442</td>\n",
       "      <td>98199.00000</td>\n",
       "      <td>1538.23576</td>\n",
       "      <td>12.00000</td>\n",
       "      <td>2022.00000</td>\n",
       "    </tr>\n",
       "  </tbody>\n",
       "</table>\n",
       "</div>"
      ],
      "text/plain": [
       "                    id         price    bedrooms   bathrooms  sqft_living  \\\n",
       "count      14325.00000   14325.00000 14325.00000 14325.00000  14325.00000   \n",
       "mean  4742112690.16803  870096.22178     3.11449     2.04216   1708.20188   \n",
       "std   2874442208.65749  400576.10533     0.69487     0.71298    577.38946   \n",
       "min      2800024.00000   27360.00000     2.00000     0.00000    540.00000   \n",
       "25%   2345800040.00000  603000.00000     3.00000     1.50000   1280.00000   \n",
       "50%   4039400820.00000  780000.00000     3.00000     2.00000   1640.00000   \n",
       "75%   7454001340.00000 1050000.00000     4.00000     2.50000   2070.00000   \n",
       "max   9904000012.00000 7115000.00000     4.00000     5.50000   4400.00000   \n",
       "\n",
       "         sqft_lot      floors  sqft_above  sqft_basement  sqft_garage  \\\n",
       "count 14325.00000 14325.00000 14325.00000    14325.00000  14325.00000   \n",
       "mean   5821.58981     1.45686  1453.07253      453.07644    251.46360   \n",
       "std    2505.14961     0.55520   532.30209      492.61808    229.11329   \n",
       "min     402.00000     1.00000   400.00000        0.00000      0.00000   \n",
       "25%    4000.00000     1.00000  1070.00000        0.00000      0.00000   \n",
       "50%    6050.00000     1.00000  1330.00000      330.00000    250.00000   \n",
       "75%    7800.00000     2.00000  1720.00000      890.00000    440.00000   \n",
       "max    9999.00000     4.00000  5500.00000     3180.00000   1660.00000   \n",
       "\n",
       "       sqft_patio    yr_built  yr_renovated         lat        long  \\\n",
       "count 14325.00000 14325.00000   14325.00000 14325.00000 14325.00000   \n",
       "mean    147.48942  1967.06513      88.60126    47.56105  -122.26676   \n",
       "std     168.85266    32.94223     411.42438     0.13522     0.11462   \n",
       "min       0.00000  1900.00000       0.00000    47.25768  -122.41559   \n",
       "25%       0.00000  1944.00000       0.00000    47.47747  -122.35075   \n",
       "50%     100.00000  1966.00000       0.00000    47.56894  -122.29981   \n",
       "75%     220.00000  1996.00000       0.00000    47.67966  -122.19764   \n",
       "max    2030.00000  2022.00000    2022.00000    47.78983  -121.73442   \n",
       "\n",
       "          zipcode     avg_inc       month        year  \n",
       "count 14325.00000 14325.00000 14325.00000 14325.00000  \n",
       "mean  98092.08126   130.40993     6.82820  2021.36991  \n",
       "std      53.00553    69.22694     3.12394     0.48280  \n",
       "min   98001.00000    51.76461     1.00000  2021.00000  \n",
       "25%   98042.00000    83.88887     4.00000  2021.00000  \n",
       "50%   98106.00000   116.63412     7.00000  2021.00000  \n",
       "75%   98125.00000   159.67277     9.00000  2022.00000  \n",
       "max   98199.00000  1538.23576    12.00000  2022.00000  "
      ]
     },
     "execution_count": 36,
     "metadata": {},
     "output_type": "execute_result"
    }
   ],
   "source": [
    "#using more of john's code here except seeing if we can use more bedrooms\n",
    "\n",
    "kc2 = kc2.loc[(1 < kc2['bedrooms']) & (kc2['bedrooms'] < 5) & (kc2['sqft_lot'] < 10000)\n",
    "                 & ((kc2['grade'] != '4 Low') & (kc2['grade'] != '12 Luxury') & (kc2['grade'] != '11 Excellent')\n",
    "                 & (kc2['grade'] != '10 Very Good') & (kc2['grade'] != '9 Better'))].copy()\n",
    "kc2.describe()"
   ]
  },
  {
   "cell_type": "code",
   "execution_count": 37,
   "id": "7a265eec",
   "metadata": {},
   "outputs": [
    {
     "data": {
      "image/png": "[encoded data removed]",
      "text/plain": [
       "<Figure size 360x360 with 1 Axes>"
      ]
     },
     "metadata": {
      "needs_background": "light"
     },
     "output_type": "display_data"
    }
   ],
   "source": [
    "sns.lmplot(data=kc2, x='sqft_living', y='price')\n",
    "plt.xlabel('sqft living')\n",
    "plt.ylabel('price')\n",
    "plt.title('price fxn of sqft living');"
   ]
  },
  {
   "cell_type": "code",
   "execution_count": 38,
   "id": "6493fcf8",
   "metadata": {},
   "outputs": [
    {
     "data": {
      "image/png": "[encoded data removed]",
      "text/plain": [
       "<Figure size 360x360 with 1 Axes>"
      ]
     },
     "metadata": {
      "needs_background": "light"
     },
     "output_type": "display_data"
    }
   ],
   "source": [
    "sns.lmplot(data=kc2, x='sqft_lot', y='price')\n",
    "plt.xlabel('sqft_lot')\n",
    "plt.ylabel('price')\n",
    "plt.title('price fxn of sqft sqft_lot');"
   ]
  },
  {
   "cell_type": "code",
   "execution_count": 39,
   "id": "d2e0d462",
   "metadata": {},
   "outputs": [
    {
     "data": {
      "text/plain": [
       "<AxesSubplot:xlabel='bedrooms', ylabel='price'>"
      ]
     },
     "execution_count": 39,
     "metadata": {},
     "output_type": "execute_result"
    },
    {
     "data": {
      "image/png": "[encoded data removed]",
      "text/plain": [
       "<Figure size 432x288 with 1 Axes>"
      ]
     },
     "metadata": {},
     "output_type": "display_data"
    }
   ],
   "source": [
    "sns.set_style(\"whitegrid\")\n",
    "  \n",
    "sns.boxplot(x = 'bedrooms', y = 'price', data = kc2)"
   ]
  },
  {
   "cell_type": "code",
   "execution_count": 40,
   "id": "a39be0f0",
   "metadata": {},
   "outputs": [
    {
     "data": {
      "text/plain": [
       "count     14325.00000\n",
       "mean     870096.22178\n",
       "std      400576.10533\n",
       "min       27360.00000\n",
       "25%      603000.00000\n",
       "50%      780000.00000\n",
       "75%     1050000.00000\n",
       "max     7115000.00000\n",
       "Name: price, dtype: float64"
      ]
     },
     "execution_count": 40,
     "metadata": {},
     "output_type": "execute_result"
    }
   ],
   "source": [
    "kc2['price'].describe()"
   ]
  },
  {
   "cell_type": "code",
   "execution_count": 41,
   "id": "8a6d70be",
   "metadata": {},
   "outputs": [
    {
     "data": {
      "text/plain": [
       "count     14134.00000\n",
       "mean     848124.19365\n",
       "std      348050.53429\n",
       "min       27360.00000\n",
       "25%      600000.00000\n",
       "50%      775000.00000\n",
       "75%     1025000.00000\n",
       "max     2000000.00000\n",
       "Name: price, dtype: float64"
      ]
     },
     "execution_count": 41,
     "metadata": {},
     "output_type": "execute_result"
    }
   ],
   "source": [
    "kc2 = kc2[(kc2['price'] <= 2000000)]\n",
    "kc2['price'].describe()"
   ]
  },
  {
   "cell_type": "code",
   "execution_count": 42,
   "id": "52a3b9bf",
   "metadata": {},
   "outputs": [
    {
     "data": {
      "text/plain": [
       "<AxesSubplot:xlabel='bedrooms', ylabel='price'>"
      ]
     },
     "execution_count": 42,
     "metadata": {},
     "output_type": "execute_result"
    },
    {
     "data": {
      "image/png": "[encoded data removed]",
      "text/plain": [
       "<Figure size 432x288 with 1 Axes>"
      ]
     },
     "metadata": {},
     "output_type": "display_data"
    }
   ],
   "source": [
    "sns.set_style(\"whitegrid\")\n",
    "  \n",
    "sns.boxplot(x = 'bedrooms', y = 'price', data = kc2)"
   ]
  },
  {
   "cell_type": "code",
   "execution_count": 44,
   "id": "e7b0d564",
   "metadata": {},
   "outputs": [
    {
     "data": {
      "image/png": "[encoded data removed]",
      "text/plain": [
       "<Figure size 432x288 with 1 Axes>"
      ]
     },
     "metadata": {},
     "output_type": "display_data"
    }
   ],
   "source": [
    "#checks distribution of bedrooms\n",
    "kc2['bedrooms'].plot(kind='hist');"
   ]
  },
  {
   "cell_type": "code",
   "execution_count": 46,
   "id": "88b7f4c3",
   "metadata": {},
   "outputs": [
    {
     "data": {
      "text/plain": [
       "bedrooms\n",
       "4   954200.24947\n",
       "3   832351.45729\n",
       "2   722749.45206\n",
       "Name: price, dtype: float64"
      ]
     },
     "execution_count": 46,
     "metadata": {},
     "output_type": "execute_result"
    }
   ],
   "source": [
    "#compares mean price by bedrooms\n",
    "kc2.groupby('bedrooms')['price'].mean().sort_values(ascending=False)"
   ]
  },
  {
   "cell_type": "code",
   "execution_count": 49,
   "id": "ef8f8f0c",
   "metadata": {},
   "outputs": [
    {
     "data": {
      "text/html": [
       "<div>\n",
       "<style scoped>\n",
       "    .dataframe tbody tr th:only-of-type {\n",
       "        vertical-align: middle;\n",
       "    }\n",
       "\n",
       "    .dataframe tbody tr th {\n",
       "        vertical-align: top;\n",
       "    }\n",
       "\n",
       "    .dataframe thead th {\n",
       "        text-align: right;\n",
       "    }\n",
       "</style>\n",
       "<table border=\"1\" class=\"dataframe\">\n",
       "  <thead>\n",
       "    <tr style=\"text-align: right;\">\n",
       "      <th></th>\n",
       "      <th>id</th>\n",
       "      <th>price</th>\n",
       "      <th>bedrooms</th>\n",
       "      <th>bathrooms</th>\n",
       "      <th>sqft_living</th>\n",
       "      <th>sqft_lot</th>\n",
       "      <th>floors</th>\n",
       "      <th>sqft_above</th>\n",
       "      <th>sqft_basement</th>\n",
       "      <th>sqft_garage</th>\n",
       "      <th>sqft_patio</th>\n",
       "      <th>yr_built</th>\n",
       "      <th>yr_renovated</th>\n",
       "      <th>lat</th>\n",
       "      <th>long</th>\n",
       "      <th>zipcode</th>\n",
       "      <th>avg_inc</th>\n",
       "      <th>month</th>\n",
       "      <th>year</th>\n",
       "    </tr>\n",
       "  </thead>\n",
       "  <tbody>\n",
       "    <tr>\n",
       "      <th>count</th>\n",
       "      <td>14134.00000</td>\n",
       "      <td>14134.00000</td>\n",
       "      <td>14134.00000</td>\n",
       "      <td>14134.00000</td>\n",
       "      <td>14134.00000</td>\n",
       "      <td>14134.00000</td>\n",
       "      <td>14134.00000</td>\n",
       "      <td>14134.00000</td>\n",
       "      <td>14134.00000</td>\n",
       "      <td>14134.00000</td>\n",
       "      <td>14134.00000</td>\n",
       "      <td>14134.00000</td>\n",
       "      <td>14134.00000</td>\n",
       "      <td>14134.00000</td>\n",
       "      <td>14134.00000</td>\n",
       "      <td>14134.00000</td>\n",
       "      <td>14134.00000</td>\n",
       "      <td>14134.00000</td>\n",
       "      <td>14134.00000</td>\n",
       "    </tr>\n",
       "    <tr>\n",
       "      <th>mean</th>\n",
       "      <td>4744320001.06552</td>\n",
       "      <td>848124.19365</td>\n",
       "      <td>3.11016</td>\n",
       "      <td>2.03654</td>\n",
       "      <td>1698.86529</td>\n",
       "      <td>5811.73263</td>\n",
       "      <td>1.45504</td>\n",
       "      <td>1446.45564</td>\n",
       "      <td>449.43823</td>\n",
       "      <td>251.35001</td>\n",
       "      <td>145.85553</td>\n",
       "      <td>1967.22782</td>\n",
       "      <td>85.41191</td>\n",
       "      <td>47.56005</td>\n",
       "      <td>-122.26701</td>\n",
       "      <td>98092.29107</td>\n",
       "      <td>128.59894</td>\n",
       "      <td>6.84442</td>\n",
       "      <td>2021.36685</td>\n",
       "    </tr>\n",
       "    <tr>\n",
       "      <th>std</th>\n",
       "      <td>2874650191.45916</td>\n",
       "      <td>348050.53429</td>\n",
       "      <td>0.69413</td>\n",
       "      <td>0.71032</td>\n",
       "      <td>569.21421</td>\n",
       "      <td>2507.96433</td>\n",
       "      <td>0.55528</td>\n",
       "      <td>527.73704</td>\n",
       "      <td>490.39339</td>\n",
       "      <td>228.63871</td>\n",
       "      <td>166.94257</td>\n",
       "      <td>32.88421</td>\n",
       "      <td>404.28229</td>\n",
       "      <td>0.13573</td>\n",
       "      <td>0.11480</td>\n",
       "      <td>53.01643</td>\n",
       "      <td>64.18873</td>\n",
       "      <td>3.12357</td>\n",
       "      <td>0.48196</td>\n",
       "    </tr>\n",
       "    <tr>\n",
       "      <th>min</th>\n",
       "      <td>2800024.00000</td>\n",
       "      <td>27360.00000</td>\n",
       "      <td>2.00000</td>\n",
       "      <td>0.00000</td>\n",
       "      <td>540.00000</td>\n",
       "      <td>402.00000</td>\n",
       "      <td>1.00000</td>\n",
       "      <td>400.00000</td>\n",
       "      <td>0.00000</td>\n",
       "      <td>0.00000</td>\n",
       "      <td>0.00000</td>\n",
       "      <td>1900.00000</td>\n",
       "      <td>0.00000</td>\n",
       "      <td>47.25768</td>\n",
       "      <td>-122.41559</td>\n",
       "      <td>98001.00000</td>\n",
       "      <td>51.76461</td>\n",
       "      <td>1.00000</td>\n",
       "      <td>2021.00000</td>\n",
       "    </tr>\n",
       "    <tr>\n",
       "      <th>25%</th>\n",
       "      <td>2347425354.75000</td>\n",
       "      <td>600000.00000</td>\n",
       "      <td>3.00000</td>\n",
       "      <td>1.50000</td>\n",
       "      <td>1270.00000</td>\n",
       "      <td>4000.00000</td>\n",
       "      <td>1.00000</td>\n",
       "      <td>1070.00000</td>\n",
       "      <td>0.00000</td>\n",
       "      <td>0.00000</td>\n",
       "      <td>0.00000</td>\n",
       "      <td>1945.00000</td>\n",
       "      <td>0.00000</td>\n",
       "      <td>47.47547</td>\n",
       "      <td>-122.35089</td>\n",
       "      <td>98042.00000</td>\n",
       "      <td>83.88887</td>\n",
       "      <td>4.00000</td>\n",
       "      <td>2021.00000</td>\n",
       "    </tr>\n",
       "    <tr>\n",
       "      <th>50%</th>\n",
       "      <td>4039700345.00000</td>\n",
       "      <td>775000.00000</td>\n",
       "      <td>3.00000</td>\n",
       "      <td>2.00000</td>\n",
       "      <td>1640.00000</td>\n",
       "      <td>6050.00000</td>\n",
       "      <td>1.00000</td>\n",
       "      <td>1320.00000</td>\n",
       "      <td>320.00000</td>\n",
       "      <td>250.00000</td>\n",
       "      <td>100.00000</td>\n",
       "      <td>1966.00000</td>\n",
       "      <td>0.00000</td>\n",
       "      <td>47.56747</td>\n",
       "      <td>-122.30033</td>\n",
       "      <td>98106.00000</td>\n",
       "      <td>116.63412</td>\n",
       "      <td>7.00000</td>\n",
       "      <td>2021.00000</td>\n",
       "    </tr>\n",
       "    <tr>\n",
       "      <th>75%</th>\n",
       "      <td>7457400220.00000</td>\n",
       "      <td>1025000.00000</td>\n",
       "      <td>4.00000</td>\n",
       "      <td>2.50000</td>\n",
       "      <td>2060.00000</td>\n",
       "      <td>7800.00000</td>\n",
       "      <td>2.00000</td>\n",
       "      <td>1710.00000</td>\n",
       "      <td>890.00000</td>\n",
       "      <td>440.00000</td>\n",
       "      <td>220.00000</td>\n",
       "      <td>1996.00000</td>\n",
       "      <td>0.00000</td>\n",
       "      <td>47.67981</td>\n",
       "      <td>-122.19766</td>\n",
       "      <td>98125.00000</td>\n",
       "      <td>159.67277</td>\n",
       "      <td>9.00000</td>\n",
       "      <td>2022.00000</td>\n",
       "    </tr>\n",
       "    <tr>\n",
       "      <th>max</th>\n",
       "      <td>9904000012.00000</td>\n",
       "      <td>2000000.00000</td>\n",
       "      <td>4.00000</td>\n",
       "      <td>5.50000</td>\n",
       "      <td>4400.00000</td>\n",
       "      <td>9999.00000</td>\n",
       "      <td>4.00000</td>\n",
       "      <td>5500.00000</td>\n",
       "      <td>3180.00000</td>\n",
       "      <td>1660.00000</td>\n",
       "      <td>2030.00000</td>\n",
       "      <td>2022.00000</td>\n",
       "      <td>2022.00000</td>\n",
       "      <td>47.78983</td>\n",
       "      <td>-121.73442</td>\n",
       "      <td>98199.00000</td>\n",
       "      <td>1538.23576</td>\n",
       "      <td>12.00000</td>\n",
       "      <td>2022.00000</td>\n",
       "    </tr>\n",
       "  </tbody>\n",
       "</table>\n",
       "</div>"
      ],
      "text/plain": [
       "                    id         price    bedrooms   bathrooms  sqft_living  \\\n",
       "count      14134.00000   14134.00000 14134.00000 14134.00000  14134.00000   \n",
       "mean  4744320001.06552  848124.19365     3.11016     2.03654   1698.86529   \n",
       "std   2874650191.45916  348050.53429     0.69413     0.71032    569.21421   \n",
       "min      2800024.00000   27360.00000     2.00000     0.00000    540.00000   \n",
       "25%   2347425354.75000  600000.00000     3.00000     1.50000   1270.00000   \n",
       "50%   4039700345.00000  775000.00000     3.00000     2.00000   1640.00000   \n",
       "75%   7457400220.00000 1025000.00000     4.00000     2.50000   2060.00000   \n",
       "max   9904000012.00000 2000000.00000     4.00000     5.50000   4400.00000   \n",
       "\n",
       "         sqft_lot      floors  sqft_above  sqft_basement  sqft_garage  \\\n",
       "count 14134.00000 14134.00000 14134.00000    14134.00000  14134.00000   \n",
       "mean   5811.73263     1.45504  1446.45564      449.43823    251.35001   \n",
       "std    2507.96433     0.55528   527.73704      490.39339    228.63871   \n",
       "min     402.00000     1.00000   400.00000        0.00000      0.00000   \n",
       "25%    4000.00000     1.00000  1070.00000        0.00000      0.00000   \n",
       "50%    6050.00000     1.00000  1320.00000      320.00000    250.00000   \n",
       "75%    7800.00000     2.00000  1710.00000      890.00000    440.00000   \n",
       "max    9999.00000     4.00000  5500.00000     3180.00000   1660.00000   \n",
       "\n",
       "       sqft_patio    yr_built  yr_renovated         lat        long  \\\n",
       "count 14134.00000 14134.00000   14134.00000 14134.00000 14134.00000   \n",
       "mean    145.85553  1967.22782      85.41191    47.56005  -122.26701   \n",
       "std     166.94257    32.88421     404.28229     0.13573     0.11480   \n",
       "min       0.00000  1900.00000       0.00000    47.25768  -122.41559   \n",
       "25%       0.00000  1945.00000       0.00000    47.47547  -122.35089   \n",
       "50%     100.00000  1966.00000       0.00000    47.56747  -122.30033   \n",
       "75%     220.00000  1996.00000       0.00000    47.67981  -122.19766   \n",
       "max    2030.00000  2022.00000    2022.00000    47.78983  -121.73442   \n",
       "\n",
       "          zipcode     avg_inc       month        year  \n",
       "count 14134.00000 14134.00000 14134.00000 14134.00000  \n",
       "mean  98092.29107   128.59894     6.84442  2021.36685  \n",
       "std      53.01643    64.18873     3.12357     0.48196  \n",
       "min   98001.00000    51.76461     1.00000  2021.00000  \n",
       "25%   98042.00000    83.88887     4.00000  2021.00000  \n",
       "50%   98106.00000   116.63412     7.00000  2021.00000  \n",
       "75%   98125.00000   159.67277     9.00000  2022.00000  \n",
       "max   98199.00000  1538.23576    12.00000  2022.00000  "
      ]
     },
     "execution_count": 49,
     "metadata": {},
     "output_type": "execute_result"
    }
   ],
   "source": [
    "#filtering for ideal average income neighborhoods\n",
    "kc2 = kc2.loc[kc2['avg_inc'] < 200000]\n",
    "kc2.describe()"
   ]
  },
  {
   "cell_type": "code",
   "execution_count": 50,
   "id": "fc73c454",
   "metadata": {},
   "outputs": [],
   "source": [
    "#john's income bins\n",
    "def inc_bins(row):\n",
    "    if row['avg_inc'] < 100:\n",
    "        return 0\n",
    "    elif 100 <= row['avg_inc'] < 150:\n",
    "        return 1\n",
    "    else:\n",
    "        return 2"
   ]
  },
  {
   "cell_type": "code",
   "execution_count": 52,
   "id": "52e9624f",
   "metadata": {},
   "outputs": [
    {
     "data": {
      "text/plain": [
       "0    6232\n",
       "2    3998\n",
       "1    3904\n",
       "Name: avg_inc_bins, dtype: int64"
      ]
     },
     "execution_count": 52,
     "metadata": {},
     "output_type": "execute_result"
    }
   ],
   "source": [
    "kc2['avg_inc_bins'] = kc2.apply(inc_bins,axis=1)\n",
    "kc2['avg_inc_bins'].value_counts()"
   ]
  },
  {
   "cell_type": "code",
   "execution_count": 53,
   "id": "e2393964",
   "metadata": {},
   "outputs": [
    {
     "data": {
      "image/png": "[encoded data removed]",
      "text/plain": [
       "<Figure size 360x360 with 1 Axes>"
      ]
     },
     "metadata": {},
     "output_type": "display_data"
    }
   ],
   "source": [
    "sns.lmplot(data=kc2, x='sqft_living', y='price')\n",
    "plt.xlabel('sqft living')\n",
    "plt.ylabel('price')\n",
    "plt.title('price fxn of sqft living');"
   ]
  },
  {
   "cell_type": "code",
   "execution_count": 54,
   "id": "9c8c3d12",
   "metadata": {},
   "outputs": [
    {
     "data": {
      "image/png": "[encoded data removed]",
      "text/plain": [
       "<Figure size 360x360 with 1 Axes>"
      ]
     },
     "metadata": {},
     "output_type": "display_data"
    }
   ],
   "source": [
    "sns.lmplot(data=kc2, x='sqft_lot', y='price')\n",
    "plt.xlabel('sqft_lot')\n",
    "plt.ylabel('price')\n",
    "plt.title('price fxn of sqft sqft_lot');"
   ]
  },
  {
   "cell_type": "code",
   "execution_count": 56,
   "id": "6e99e350",
   "metadata": {},
   "outputs": [
    {
     "data": {
      "text/plain": [
       "<AxesSubplot:xlabel='bedrooms', ylabel='price'>"
      ]
     },
     "execution_count": 56,
     "metadata": {},
     "output_type": "execute_result"
    },
    {
     "data": {
      "image/png": "[encoded data removed]",
      "text/plain": [
       "<Figure size 432x288 with 1 Axes>"
      ]
     },
     "metadata": {},
     "output_type": "display_data"
    }
   ],
   "source": [
    "sns.set_style(\"whitegrid\")\n",
    "  \n",
    "sns.boxplot(x = 'bedrooms', y = 'price', data = kc2)"
   ]
  },
  {
   "cell_type": "code",
   "execution_count": 57,
   "id": "cb3b06b1",
   "metadata": {},
   "outputs": [
    {
     "data": {
      "text/plain": [
       "<AxesSubplot:xlabel='bathrooms', ylabel='price'>"
      ]
     },
     "execution_count": 57,
     "metadata": {},
     "output_type": "execute_result"
    },
    {
     "data": {
      "image/png": "[encoded data removed]",
      "text/plain": [
       "<Figure size 432x288 with 1 Axes>"
      ]
     },
     "metadata": {},
     "output_type": "display_data"
    }
   ],
   "source": [
    "sns.set_style(\"whitegrid\")\n",
    "  \n",
    "sns.boxplot(x = 'bathrooms', y = 'price', data = kc2)"
   ]
  },
  {
   "cell_type": "code",
   "execution_count": 59,
   "id": "f8ce9ac1",
   "metadata": {},
   "outputs": [
    {
     "data": {
      "text/plain": [
       "22643    7925 Pine Avenue, Snoqualmie, Washington 98065...\n",
       "Name: address, dtype: object"
      ]
     },
     "execution_count": 59,
     "metadata": {},
     "output_type": "execute_result"
    }
   ],
   "source": [
    "zerobath = kc2.loc[kc2['bathrooms'] == 0]\n",
    "zerobath['address']\n"
   ]
  },
  {
   "cell_type": "markdown",
   "id": "7538ab69",
   "metadata": {},
   "source": [
    "This is incorrect according to Redfin: The house actually has 1.5 baths. It's still within a reasonable price range so I'm going to correct it and keep it\n",
    "\n",
    "https://www.redfin.com/WA/Snoqualmie/7925-Pine-Ave-SE-98065/home/483116"
   ]
  },
  {
   "cell_type": "code",
   "execution_count": null,
   "id": "eb5b3467",
   "metadata": {},
   "outputs": [],
   "source": []
  }
 ],
 "metadata": {
  "kernelspec": {
   "display_name": "Python (learn-env)",
   "language": "python",
   "name": "learn-env"
  },
  "language_info": {
   "codemirror_mode": {
    "name": "ipython",
    "version": 3
   },
   "file_extension": ".py",
   "mimetype": "text/x-python",
   "name": "python",
   "nbconvert_exporter": "python",
   "pygments_lexer": "ipython3",
   "version": "3.8.5"
  }
 },
 "nbformat": 4,
 "nbformat_minor": 5
}
